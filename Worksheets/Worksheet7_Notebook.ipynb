{
 "cells": [
  {
   "cell_type": "markdown",
   "metadata": {},
   "source": [
    "# Worksheet 7"
   ]
  },
  {
   "cell_type": "code",
   "execution_count": null,
   "metadata": {
    "collapsed": true,
    "nbconvert": {
     "hide_code": true
    }
   },
   "outputs": [],
   "source": [
    "%matplotlib inline"
   ]
  },
  {
   "cell_type": "markdown",
   "metadata": {},
   "source": [
    "# Questions"
   ]
  },
  {
   "cell_type": "markdown",
   "metadata": {},
   "source": [
    "## Question 1"
   ]
  },
  {
   "cell_type": "markdown",
   "metadata": {},
   "source": [
    "Find the linear system that results from using central differencing to solve the elliptic equation\n",
    "$$\n",
    "    u_{xx} + u_{yy} = \\sin ( \\pi y ) \\left( 2 - 6 x - (\\pi x)^2 (1 - x) \\right).\n",
    "$$\n",
    "Central differencing, trivial boundary conditions, and a $3 \\times 2$ grid should be used."
   ]
  },
  {
   "cell_type": "markdown",
   "metadata": {
    "nbconvert": {
     "hide_solution": true
    }
   },
   "source": [
    "### Answer Question 1"
   ]
  },
  {
   "cell_type": "markdown",
   "metadata": {
    "nbconvert": {
     "hide_solution": true
    }
   },
   "source": [
    "The question is incomplete as it does not specify the spatial domain. However, it is reasonably to expect it to be the unit square $(x, y) \\in [0, 1]^2$. So we first specify the grid using the coordinates\n",
    "\n",
    "$$\n",
    "\\begin{aligned}\n",
    "  x_i & = i h_x & i & = 0, \\dots, 4, & h_x & = \\frac{1}{4}, \\\\\n",
    "  y_j & = j h_y & j & = 0, \\dots, 3, & h_y & = \\frac{1}{3}.\n",
    "\\end{aligned}\n",
    "$$\n",
    "\n",
    "This gives an evenly spaced grid with 3 interior points in $x$ and 2 interior points in $y$. The boundary conditions are imposed as\n",
    "\n",
    "$$\n",
    "\\begin{aligned}\n",
    "  u_{0, j} & = 0, & u_{4, j} & = 0, \\\\\n",
    "  u_{i, 0} & = 0, & u_{i, 3} & = 0.\n",
    "\\end{aligned}\n",
    "$$\n",
    "\n",
    "We are of course using the notation $u_{i,j} \\approx u(x_i, y_j)$.\n",
    "\n",
    "We use central differencing at all interior points to get\n",
    "\n",
    "$$\n",
    "\\begin{aligned}\n",
    "  u_{xx} & \\approx \\frac{u_{i+1,j} + u_{i-1,j} - 2 u_{i,j}}{h_x^2}, \\\\\n",
    "  u_{yy} & \\approx \\frac{u_{i,j+1} + u_{i,j-1} - 2 u_{i,j}}{h_y^2}.\n",
    "\\end{aligned}\n",
    "$$\n",
    "\n",
    "We then substitute these approximations into the differential equation to find the difference equation satisfied at all interior points,\n",
    "\n",
    "$$\n",
    "  \\left(u_{i+1,j} + u_{i-1,j} - 2 u_{i,j} \\right) + \\left(\\frac{h_x}{h_y} \\right)^2 \\left( u_{i,j+1} + u_{i,j-1} - 2 u_{i,j} \\right) = h_x^2 \\sin ( \\pi y_j ) \\left( 2 - 6 x_i - (\\pi x_i)^2 (1 - x_i) \\right).\n",
    "$$\n",
    "  \n",
    "We will write $h_x / h_y = \\alpha$.\n",
    "\n",
    "We choose natural ordering by rows to write the unknowns $u_{i,j}$ as a vector ${\\bf u}$ as\n",
    "\n",
    "$$\n",
    "  {\\bf u} = \\left[ u_{1,1}, u_{1,2}, u_{2,1}, u_{2,2}, u_{3,1}, u_{3,2} \\right]^T.\n",
    "$$\n",
    "\n",
    "It then follows that the matrix that defines the system has the form\n",
    "\n",
    "$$\n",
    "  A =\n",
    "    \\begin{pmatrix}\n",
    "      -2 ( 1 + \\alpha ) & \\alpha & 1 & 0 & 0 & 0 \\\\\n",
    "      \\alpha & -2 ( 1 + \\alpha ) & 0 & 1 & 0 & 0 \\\\\n",
    "      1 & 0 & -2 ( 1 + \\alpha ) & 1 & \\alpha & 0 \\\\\n",
    "      0 & 1 & \\alpha & -2 ( 1 + \\alpha ) & 0 & 1 \\\\\n",
    "      0 & 0 & 1 & 0 & -2 ( 1 + \\alpha ) & \\alpha \\\\\n",
    "      0 & 0 & 0 & \\alpha & 1 &  -2 ( 1 + \\alpha ) \n",
    "    \\end{pmatrix}\n",
    "$$\n",
    "\n",
    "and the right hand side vector is solely in terms of the right hand side data\n",
    "  \n",
    "$$\n",
    "    h_x^2 \\sin ( \\pi y_j ) \\left( 2 - 6 x_i - (\\pi x_i)^2 (1 - x_i) \\right)\n",
    "$$\n",
    "\n",
    "as all the boundary data is trivial."
   ]
  },
  {
   "cell_type": "markdown",
   "metadata": {},
   "source": [
    "## Question 2"
   ]
  },
  {
   "cell_type": "markdown",
   "metadata": {},
   "source": [
    "Explain the strategy for solving evolutionary PDEs using finite differencing methods."
   ]
  },
  {
   "cell_type": "markdown",
   "metadata": {
    "nbconvert": {
     "hide_solution": true
    }
   },
   "source": [
    "### Answer Question 2"
   ]
  },
  {
   "cell_type": "markdown",
   "metadata": {
    "nbconvert": {
     "hide_solution": true
    }
   },
   "source": [
    "The domain is discretized using a set of points in space. These points will usually be evenly spaced with a (representative) step length $h$. The grid is extended to cover the time domain as well by discretizing time using a time step $\\delta$. The derivatives defining the differential equation are replaced with finite difference approximations, the initial data fixes the unknowns at the initial time, and the boundary conditions imposed using equivalent (or consistent) discrete boundary data. This implies a finite difference formula which gives the unknown data at timestep $n+1$ in terms of the known data at timestep $n$ and the boundary data. \n",
    "\n",
    "Depending on the finite difference formula derived, there may be a relation between the time step $\\delta$ and space step $h$ for which the algorithm is stable and convergent, which can be checked using von Neumann analysis."
   ]
  },
  {
   "cell_type": "markdown",
   "metadata": {},
   "source": [
    "## Question 3"
   ]
  },
  {
   "cell_type": "markdown",
   "metadata": {},
   "source": [
    "Write out a FTCS method for the equations\n",
    "$$\n",
    "\\begin{aligned}\n",
    "    \\partial_t y - \\partial_{xx} y & = \\sin(x), & x & \\in [0,1], &\n",
    "    y(t, 0) & = 0 = y(t, 1), \\\\\n",
    "    \\partial_t y + \\partial_{x} y & = e^{-(x-1/2)^2}, & x & \\in [0,1], &\n",
    "    y(t, 0) & = 0 = y(t, 1).\n",
    "\\end{aligned}\n",
    "$$\n",
    "In both cases the initial data should be taken to be $y(0, x) = f(x)$. Full details of the grid, the discrete initial and boundary conditions, and the discrete update algorithm should be given."
   ]
  },
  {
   "cell_type": "markdown",
   "metadata": {
    "nbconvert": {
     "hide_solution": true
    }
   },
   "source": [
    "### Answer Question 3"
   ]
  },
  {
   "cell_type": "markdown",
   "metadata": {
    "nbconvert": {
     "hide_solution": true
    }
   },
   "source": [
    "We shall use $N+1$ points in space, denoted $x_i = i h$ with $i = 0,  \\dots, N$ and the space step $h = 1 / N$; this is an evenly spaced grid with boundary points $x_0 = 0$ and $x_N = 1$. We will also  discretize time using $t^n = n \\delta$ where $\\delta$, the timestep, is unconstrained. We will denote our approximate solution at $(x, t) = (x_i, t^n)$ as $y_i^n \\approx y(x_i, t^n)$.\n",
    "\n",
    "The initial data will be imposed by the equivalent discrete condition $y_i^0 = f(x_i)$. The (trivial Dirichlet) boundary conditions to be imposed in both cases will be given by the discrete conditions\n",
    "$$\n",
    "    y_0^n = 0, \\qquad y_N^n = 0, \\qquad \\forall n \\ge 0.\n",
    "$$\n",
    "\n",
    "To form the discrete update algorithm we use forward differencing in time (FT),\n",
    "$$\n",
    "    y_t|_{x=x_i, t = t^n} \\approx \\frac{y_i^{n+1} - y_i^{n}}{\\delta},\n",
    "$$\n",
    "and central differencing in space (CS), \n",
    "$$\n",
    "\\begin{aligned}\n",
    "    y_x|_{x=x_i, t = t^n} & \\approx \\frac{y_{i+1}^{n} - y_{i-1}^{n}}{2\n",
    "      h}, \\\\\n",
    "    y_{xx}|_{x=x_i, t = t^n} & \\approx \\frac{y_{i+1}^{n} + y_{i-1}^{n}\n",
    "      - 2 y_i^n}{h^2}.\n",
    "\\end{aligned}\n",
    "$$\n",
    "\n",
    "We then replace the derivatives in the PDE with the finite difference approximations and rearrange, to get for the heat equation\n",
    "$$\n",
    "\\begin{aligned}\n",
    "    \\frac{y_i^{n+1} - y_i^{n}}{\\delta} - \\frac{y_{i+1}^{n} + y_{i-1}^{n}\n",
    "      - 2 y_i^n}{h^2} & = \\sin(x_i) \\\\\n",
    "    \\Rightarrow \\qquad y_i^{n+1} &= y_i^n + \\delta \\sin(x_i) + s \\left(\n",
    "      y_{i+1}^{n} + y_{i-1}^{n} - 2 y_i^n \\right),\n",
    "\\end{aligned}\n",
    "$$\n",
    "where $s = \\delta / h^2$, and for the advection equation\n",
    "$$\n",
    "\\begin{aligned}\n",
    "    \\frac{y_i^{n+1} - y_i^{n}}{\\delta} + \\frac{y_{i+1}^{n} -\n",
    "      y_{i-1}^{n}}{2 h} & = e^{-(x_i - 1/2)^2} \\\\\n",
    "    \\Rightarrow \\qquad y_i^{n+1} & = y_i^n + \\delta e^{-(x_i - 1/2)^2}\n",
    "    - c \\left( y_{i+1}^n - y_{i-1}^n \\right)\n",
    "\\end{aligned}\n",
    "$$\n",
    "where $c = \\delta / (2 h)$. In both cases these equations hold for the interior points $n \\ge 0$ and $i = 1, \\dots, N-1$. The boundary points are set using the above initial and boundary data."
   ]
  },
  {
   "cell_type": "markdown",
   "metadata": {},
   "source": [
    "## Question 4"
   ]
  },
  {
   "cell_type": "markdown",
   "metadata": {},
   "source": [
    "Using von Neumann analysis, find when the BTCS method is stable for the advection equation."
   ]
  },
  {
   "cell_type": "markdown",
   "metadata": {
    "nbconvert": {
     "hide_solution": true
    }
   },
   "source": [
    "### Answer Question 4"
   ]
  },
  {
   "cell_type": "markdown",
   "metadata": {
    "nbconvert": {
     "hide_solution": true
    }
   },
   "source": [
    "The finite difference formula for the BTCS method for the advection equation\n",
    "$$\n",
    "    \\partial_t y + v \\partial_x y = 0\n",
    "$$\n",
    "is straightforwardly checked to be\n",
    "$$\n",
    "    y_i^{n+1} = y_i^n - c \\left( y_{i+1}^{n+1} - y_{i-1}^{n+1} \\right)\n",
    "$$\n",
    "where the convection number $c = v \\delta / (2 h)$ with $\\delta$ the timestep and $h$ the space step. \n",
    "\n",
    "We use the standard von Neumann analysis ansatz, which is that $y_{\\ell}^k = q^k e^{\\alpha \\ell j h}$ where $q$ is the (unknown) growth rate to be found, $\\alpha$ is related to the frequency of the (generic) initial data (and hence can take any real value), $h$ is the space step and $j = \\sqrt{-1}$.\n",
    "\n",
    "Identifying $\\ell \\leftrightarrow i$ and $k \\leftrightarrow n$ and substituting the ansatz into the finite difference equation we see that\n",
    "$$\n",
    "    q = 1 - q c \\left( e^{\\alpha j h} - e^{- \\alpha j h} \\right).\n",
    "$$\n",
    "which can be written as\n",
    "$$\n",
    "\\begin{aligned}\n",
    "    q & = 1 - 2 j q c \\sin \\left(\\alpha h \\right) \\\\\n",
    "    \\Rightarrow \\qquad q & = \\frac{1}{1 + 2 j c \\sin \\left( \\alpha h\n",
    "      \\right)} \\\\\n",
    "    \\Rightarrow \\qquad |q|^2 & = \\left| \\frac{1 - 2 j c \\sin \\left(\n",
    "          \\alpha h \\right)}{1 + 4 c^2 \\sin^2 \\left( \\alpha h \\right)}\n",
    "    \\right|^2 \\\\\n",
    "    & = \\frac{1 + 4 c^2 \\sin^2 \\left( \\alpha h \\right)}{\\left[ 1 + 4\n",
    "        c^2 \\sin^2 \\left( \\alpha h \\right) \\right]^2} \\\\\n",
    "    & = \\frac{1}{1 + 4 c^2 \\sin^2 \\left( \\alpha h \\right)} \\\\\n",
    "    & \\le 1 \\qquad \\forall \\alpha.\n",
    "\\end{aligned}\n",
    "$$\n",
    "\n",
    "Therefore BTCS is unconditionally stable for the advection equation."
   ]
  },
  {
   "cell_type": "markdown",
   "metadata": {},
   "source": [
    "## Coding Question 1"
   ]
  },
  {
   "cell_type": "markdown",
   "metadata": {},
   "source": [
    "Implement the finite difference method above to solve the elliptic equation\n",
    "$$\n",
    "    u_{xx} + u_{yy} = \\sin ( \\pi y ) \\left( 2 - 6 x - (\\pi x)^2 (1 -\n",
    "      x) \\right).\n",
    "$$\n",
    "Check how it converges with resolution (the exact solution is $u = x^2 (1 - x) \\sin(\\pi y)$)."
   ]
  },
  {
   "cell_type": "markdown",
   "metadata": {
    "nbconvert": {
     "hide_solution": true
    }
   },
   "source": [
    "### Answer Coding Question 1"
   ]
  },
  {
   "cell_type": "code",
   "execution_count": null,
   "metadata": {
    "collapsed": true,
    "nbconvert": {
     "hide_solution": true
    }
   },
   "outputs": [],
   "source": [
    "import numpy\n",
    "from matplotlib import pyplot\n",
    "from mpl_toolkits.mplot3d import Axes3D\n",
    "from scipy import linalg\n",
    "\n",
    "def poisson_FD(f, domain, N):\n",
    "    \"\"\"\n",
    "    Solve Poisson's equation u_{xx} + u_{yy} = f(x, y) on the\n",
    "    rectangular domain using (N[0], N[1]) interior points.\n",
    "    \"\"\"\n",
    "    \n",
    "    h = numpy.zeros(2)\n",
    "    for d in range(2):\n",
    "        h[d] = (domain[d, 1] - domain[d, 0]) / (N[d] + 1.0)\n",
    "    alpha = (h[0] / h[1])**2\n",
    "    \n",
    "    # Grid\n",
    "    x = numpy.linspace(domain[0, 0], domain[0, 1], N[0] + 2)\n",
    "    y = numpy.linspace(domain[1, 0], domain[1, 1], N[1] + 2)\n",
    "    \n",
    "    u = numpy.zeros((N[0] + 2, N[1] + 2))\n",
    "    \n",
    "    # Set up the linear system problem\n",
    "    # Diagonal entries\n",
    "    A = numpy.diag(-2.0 * (1.0 + alpha) * numpy.ones(N[0] * N[1]))\n",
    "    # RHS vector\n",
    "    b = numpy.zeros(N[0] * N[1])\n",
    "    for j in range(N[1]):\n",
    "        for i in range(N[0]):\n",
    "            # Find the index for natural ordering by columns\n",
    "            k = j + N[1] * i\n",
    "            # The value of the RHS\n",
    "            b[k] = h[0]**2 * f(x[i+1], y[j+1])\n",
    "            # Boundary conditions: in this case, \n",
    "            # the Dirichlet BCs are trivial, \n",
    "            # but leave in the code in case!\n",
    "            if i == 0:\n",
    "                b[k] -= 0\n",
    "            elif i == N[0]-1:\n",
    "                b[k] -= 0\n",
    "            if j == 0:\n",
    "                b[k] -= 0\n",
    "            elif j == N[1]-1:\n",
    "                b[k] -= 0\n",
    "            # The Laplacian stencil (diagonal terms already set up)\n",
    "            if i > 0:\n",
    "                A[k - N[1], k] = 1.0\n",
    "            if i < N[0] - 1:\n",
    "                A[k + N[1], k] = 1.0\n",
    "            if j > 0:\n",
    "                A[k, k-1] = alpha\n",
    "            if j < N[1] - 1:\n",
    "                A[k, k+1] = alpha\n",
    "    # System now set up: solve for the interior points\n",
    "    u_interior = linalg.solve(A, b)\n",
    "    # Now need to remap the vector solution to the array for output\n",
    "    #u[1:-1, 1:-1] = u_interior.reshape(N[0], N[1])\n",
    "    for j in range(N[1]):\n",
    "        for i in range(N[0]):\n",
    "            k = j + N[1] * i\n",
    "            u[i+1, j+1] = u_interior[k]\n",
    "    \n",
    "    return x, y, u\n",
    "\n",
    "def f_qn1(x, y):\n",
    "    \"\"\"\n",
    "    Source term for the problem.\n",
    "    \"\"\"\n",
    "    \n",
    "    return numpy.sin(numpy.pi * y) * ( 2.0 - 6.0 * x - \n",
    "                                      (numpy.pi * x)**2 * (1.0 - x) )\n",
    "\n",
    "def u_exact(x, y):\n",
    "    \"\"\"\n",
    "    Exact solution for the problem.\n",
    "    \"\"\"\n",
    "    \n",
    "    return x**2 * (1.0 - x) * numpy.sin(numpy.pi * y)\n",
    "\n",
    "# Now solve the actual problem\n",
    "\n",
    "domain = numpy.array([[0.0, 1.0],[0.0, 1.0]])\n",
    "N = [40, 40]\n",
    "\n",
    "x, y, u = poisson_FD(f_qn1, domain, N)\n",
    "\n",
    "\n",
    "X, Y = numpy.meshgrid(x, y)\n",
    "fig = pyplot.figure(figsize = (12, 8), dpi = 50)\n",
    "ax = fig.add_subplot(1, 1, 1, projection='3d')\n",
    "ax.plot_surface(X, Y, u, rstride = 1, cstride = 1, linewidth = 1)\n",
    "ax.set_xlabel('$x$')\n",
    "ax.set_ylabel('$y$')\n",
    "ax.set_zlabel('$u$')\n",
    "\n",
    "# Now do the convergence test\n",
    "\n",
    "Npoints = numpy.array([8*i for i in range(3,11)])\n",
    "err_1norm = numpy.zeros(len(Npoints))\n",
    "for n in range(len(Npoints)):\n",
    "    x, y, u = poisson_FD(f_qn1, domain, [Npoints[n], Npoints[n]])\n",
    "    for j in range(Npoints[n]+2):\n",
    "        for i in range(Npoints[n]+2):\n",
    "            err_1norm[n] += (u[i, j] - u_exact(x[i], y[j]))**2\n",
    "    err_1norm[n] = numpy.sqrt(err_1norm[n]) / Npoints[n]\n",
    "\n",
    "# Best fit to the errors\n",
    "h = 1.0 / Npoints\n",
    "p = numpy.polyfit(numpy.log(h), numpy.log(err_1norm), 1)\n",
    "\n",
    "fig = pyplot.figure(figsize = (12, 8), dpi = 50)\n",
    "pyplot.loglog(h, err_1norm, 'kx')\n",
    "pyplot.loglog(h, numpy.exp(p[1]) * h**(p[0]), 'b-')\n",
    "pyplot.xlabel('$h$', size = 16)\n",
    "pyplot.ylabel('$\\|$Error$\\|_2$', size = 16)\n",
    "pyplot.legend(('Finite difference errors', \n",
    "               \"Best fit line slope {:.3}\".format(p[0])), \n",
    "              loc = \"upper left\")\n",
    "\n",
    "pyplot.show()"
   ]
  },
  {
   "cell_type": "markdown",
   "metadata": {},
   "source": [
    "## Coding Question 2"
   ]
  },
  {
   "cell_type": "markdown",
   "metadata": {},
   "source": [
    "Implement a FTBS algorithm for the advection equation with periodic boundaries. Use a sine wave on $x \\in [0,1]$ as initial data. Check how it converges with resolution."
   ]
  },
  {
   "cell_type": "markdown",
   "metadata": {
    "nbconvert": {
     "hide_solution": true
    }
   },
   "source": [
    "### Answer Coding Question 2"
   ]
  },
  {
   "cell_type": "code",
   "execution_count": null,
   "metadata": {
    "collapsed": true,
    "nbconvert": {
     "hide_solution": true
    }
   },
   "outputs": [],
   "source": [
    "def FTBS(y0, domain, N = 100, t_end = 1.0, c = 0.5):\n",
    "    \"\"\"\n",
    "    Solve the advection equation on a periodic domain using\n",
    "    N+2 points in space.\n",
    "    \"\"\"\n",
    "    \n",
    "    h = (domain[1] - domain[0]) / (N + 1.0)\n",
    "    x = numpy.linspace(domain[0], domain[1], N + 2)\n",
    "    \n",
    "    delta = c * h\n",
    "    Nt = int(numpy.floor(t_end / delta))\n",
    "    # If the timesteps don't perfectly divide the end time:\n",
    "    if (Nt * delta < t_end):\n",
    "        Nt += 1\n",
    "    y = numpy.zeros((Nt+1, N+2))\n",
    "    t = numpy.zeros(Nt+1)\n",
    "    t[0] = 0.0\n",
    "    y[0, :] = y0(x)\n",
    "    \n",
    "    for n in range(Nt):\n",
    "        t[n+1] = t[n] + delta\n",
    "        for i in range(1, N+1):\n",
    "            y[n+1, i] = y[n, i] - c * (y[n, i] - y[n, i-1])\n",
    "        # Impose boundary conditions\n",
    "        y[n+1, 0] = y[n+1, -2]\n",
    "        y[n+1, -1] = y[n+1, 1]\n",
    "    # Do the final timestep\n",
    "    delta = t_end - t[Nt-1]\n",
    "    t[Nt] = t_end\n",
    "    for i in range(1, N+1):\n",
    "        y[-1, i] = y[-2, i] - delta / h * (y[-2, i] - y[-2, i-1])\n",
    "    y[-1, 0] = y[-1, -2]\n",
    "    y[-1, -1] = y[-1, 1]\n",
    "    \n",
    "    return t, x, y\n",
    "\n",
    "def y0_qn2(x):\n",
    "    \"\"\"\n",
    "    Initial data - sine wave.\n",
    "    \"\"\"\n",
    "    \n",
    "    return numpy.sin(2.0 * numpy.pi * x)\n",
    "\n",
    "# Now produce the result for a single resolution\n",
    "\n",
    "domain = [0.0, 1.0]\n",
    "\n",
    "t, x, y = FTBS(y0_qn2, domain)\n",
    "\n",
    "pyplot.figure(figsize = (12, 8), dpi = 50)\n",
    "pyplot.plot(x, y[0, :], 'b-', x, y[-1, :], 'kx')\n",
    "pyplot.xlabel('$x$', size = 16)\n",
    "pyplot.ylabel('$y$', size = 16)\n",
    "pyplot.legend(('Initial data', 'Solution at t = 1'))\n",
    "\n",
    "# Now do the convergence test\n",
    "\n",
    "levels = numpy.array(range(2, 6))\n",
    "Npoints = 60 * 2**levels\n",
    "err_1norm = numpy.zeros(len(Npoints))\n",
    "for n in range(len(Npoints)):\n",
    "    t, x, y = FTBS(y0_qn2, domain, Npoints[n])\n",
    "    for i in range(Npoints[n]+2):\n",
    "        err_1norm[n] += (y[0, i] - y[-1, i])**2\n",
    "    err_1norm[n] = numpy.sqrt(err_1norm[n] / Npoints[n])\n",
    "\n",
    "# Best fit to the errors\n",
    "h = 1.0 / (Npoints + 1.0)\n",
    "p = numpy.polyfit(numpy.log(h), numpy.log(err_1norm), 1)\n",
    "\n",
    "fig = pyplot.figure(figsize = (12, 8), dpi = 50)\n",
    "pyplot.loglog(h, err_1norm, 'kx')\n",
    "pyplot.loglog(h, numpy.exp(p[1]) * h**(p[0]), 'b-')\n",
    "pyplot.xlabel('$h$', size = 16)\n",
    "pyplot.ylabel('$\\|$Error$\\|_1$', size = 16)\n",
    "pyplot.legend(('Finite difference errors',\n",
    "               \"Best fit line slope {0:.3}\".format(p[0])),\n",
    "              loc = \"upper left\")\n",
    "\n",
    "pyplot.show()"
   ]
  },
  {
   "cell_type": "markdown",
   "metadata": {},
   "source": [
    "## Coding Question 3"
   ]
  },
  {
   "cell_type": "markdown",
   "metadata": {},
   "source": [
    "Apply the FTBS algorithm to the traffic flow equation\n",
    "$$\n",
    "    \\partial_t y + \\partial_x \\left( y ( 1 - y) \\right) = 0.\n",
    "$$\n",
    "Use initial data $y(0, x) = \\exp(-x^2)$, $y(0, x) = 0.2 + 1.2 H(x)$ and $y(0, x) = 1 - H(x)$ on $x \\in [-10, 10]$ where $H(x)$ is the Heaviside step function. By comparing against the results for Burger's equation, explain your results. You may want to restrict to $t \\leq 0.5$."
   ]
  },
  {
   "cell_type": "markdown",
   "metadata": {
    "nbconvert": {
     "hide_solution": true
    }
   },
   "source": [
    "### Answer Coding Question 3"
   ]
  },
  {
   "cell_type": "code",
   "execution_count": null,
   "metadata": {
    "collapsed": true,
    "nbconvert": {
     "hide_solution": true
    }
   },
   "outputs": [],
   "source": [
    "def FTBS_traffic(y0, domain, N = 200, t_end = 0.5, c = 0.25):\n",
    "    \"\"\"\n",
    "    Solve the traffic flow equation on a fixed domain using N+2 points\n",
    "    in space.\n",
    "    \"\"\"\n",
    "    \n",
    "    h = (domain[1] - domain[0]) / (N + 1.0)\n",
    "    x = numpy.linspace(domain[0], domain[1], N + 2)\n",
    "    \n",
    "    delta = c * h\n",
    "    Nt = int(numpy.floor(t_end / delta))\n",
    "    # If the timesteps don't perfectly divide the end time:\n",
    "    if (Nt * delta < t_end):\n",
    "        Nt += 1\n",
    "    y = numpy.zeros((Nt+1, N+2))\n",
    "    t = numpy.zeros(Nt+1)\n",
    "    t[0] = 0.0\n",
    "    y[0, :] = y0(x)\n",
    "    \n",
    "    for n in range(Nt):\n",
    "        t[n+1] = t[n] + delta\n",
    "        for i in range(1, N+1):\n",
    "            y[n+1, i] = y[n, i] - c * \\\n",
    "              (y[n, i] * (1.0 - y[n, i]) - y[n, i-1] * (1.0 - y[n, i-1]))\n",
    "        # Impose outflow boundary conditions\n",
    "        y[n+1, 0] = y[n, 0]\n",
    "        y[n+1, -1] = y[n, -1]\n",
    "    # Do the final timestep\n",
    "    delta = t_end - t[Nt-1]\n",
    "    t[Nt] = t_end\n",
    "    for i in range(1, N+1):\n",
    "        y[-1, i] = y[-2, i] - delta / h * \\\n",
    "          (y[-2, i] * (1.0 - y[-2, i]) - \n",
    "           y[-2, i-1] * (1.0 - y[-2, i-1]))\n",
    "    y[-1, 0] = y[-2, 0]\n",
    "    y[-1, -1] = y[-2, -1]\n",
    "    \n",
    "    return t, x, y\n",
    "\n",
    "def y0_qn3_gaussian(x):\n",
    "    \"\"\"\n",
    "    Initial data - Gaussian.\n",
    "    \"\"\"\n",
    "    \n",
    "    return numpy.exp(-x**2)\n",
    "\n",
    "def heaviside(x):\n",
    "    \"\"\"\n",
    "    Utility Heaviside function.\n",
    "    \"\"\"\n",
    "    \n",
    "    return 0.5 * (1.0 + numpy.sign(x))\n",
    "\n",
    "def y0_qn3_heaviside1(x):\n",
    "    \"\"\"\n",
    "    Initial data - 0.2 + 1.2 H(x).\n",
    "    \"\"\"\n",
    "    \n",
    "    return 0.2 + 1.2 * heaviside(x)\n",
    "\n",
    "def y0_qn3_heaviside2(x):\n",
    "    \"\"\"\n",
    "    Initial data - 1 - H(x).\n",
    "    \"\"\"\n",
    "    \n",
    "    return 1.0 - heaviside(x)\n",
    "\n",
    "# Now produce the result for a single resolution\n",
    "\n",
    "domain = [-10.0, 10.0]\n",
    "\n",
    "t, x, y_gaussian   = FTBS_traffic(y0_qn3_gaussian  , domain)\n",
    "t, x, y_heaviside1 = FTBS_traffic(y0_qn3_heaviside1, domain)\n",
    "t, x, y_heaviside2 = FTBS_traffic(y0_qn3_heaviside2, domain)\n",
    "\n",
    "pyplot.figure(figsize = (12, 15), dpi = 50)\n",
    "pyplot.subplot(3, 1, 1)\n",
    "pyplot.plot(x, y_gaussian[0, :], 'b-o', x, y_gaussian[-1, :], 'kx')\n",
    "pyplot.xlabel('$x$', size = 16)\n",
    "pyplot.ylabel('$y$', size = 16)\n",
    "pyplot.legend(('Initial data', 'Solution at t = 0.5'))\n",
    "pyplot.subplot(3, 1, 2)\n",
    "pyplot.plot(x, y_heaviside1[0, :], 'b-o', x, y_heaviside1[-1, :], 'kx')\n",
    "pyplot.xlabel('$x$', size = 16)\n",
    "pyplot.ylabel('$y$', size = 16)\n",
    "pyplot.legend(('Initial data', 'Solution at t = 0.5'))\n",
    "pyplot.subplot(3, 1, 3)\n",
    "pyplot.plot(x, y_heaviside2[0, :], 'b-o', x, y_heaviside2[-1, :], 'kx')\n",
    "pyplot.xlabel('$x$', size = 16)\n",
    "pyplot.ylabel('$y$', size = 16)\n",
    "pyplot.legend(('Initial data', 'Solution at t = 0.5'))\n",
    "\n",
    "pyplot.show()"
   ]
  },
  {
   "cell_type": "markdown",
   "metadata": {
    "nbconvert": {
     "hide_solution": true
    }
   },
   "source": [
    "The algorithm fails in the second case at the discontinuity. The results in the first case are also somewhat messy, but indicate that the discontinuity is appearing for $x<0$. This is to be expected, as the discontinuous wave should propagate to the left. From examining the characteristics for this equation, you should expect better results from FT**F**S - check this!"
   ]
  }
 ],
 "metadata": {
  "kernelspec": {
   "display_name": "Python 3",
   "language": "python",
   "name": "python3"
  },
  "language_info": {
   "codemirror_mode": {
    "name": "ipython",
    "version": 3
   },
   "file_extension": ".py",
   "mimetype": "text/x-python",
   "name": "python",
   "nbconvert_exporter": "python",
   "pygments_lexer": "ipython3",
   "version": "3.6.1"
  }
 },
 "nbformat": 4,
 "nbformat_minor": 1
}
