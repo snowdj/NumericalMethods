{
 "cells": [
  {
   "cell_type": "markdown",
   "metadata": {},
   "source": [
    "# Worksheet 6"
   ]
  },
  {
   "cell_type": "code",
   "execution_count": null,
   "metadata": {
    "collapsed": true,
    "nbconvert": {
     "hide_code": true
    }
   },
   "outputs": [],
   "source": [
    "%matplotlib inline"
   ]
  },
  {
   "cell_type": "markdown",
   "metadata": {},
   "source": [
    "# Questions"
   ]
  },
  {
   "cell_type": "markdown",
   "metadata": {},
   "source": [
    "## Question 1"
   ]
  },
  {
   "cell_type": "markdown",
   "metadata": {},
   "source": [
    "Explain the shooting method for BVPs."
   ]
  },
  {
   "cell_type": "markdown",
   "metadata": {
    "nbconvert": {
     "hide_solution": true
    }
   },
   "source": [
    "### Answer Question 1"
   ]
  },
  {
   "cell_type": "markdown",
   "metadata": {
    "nbconvert": {
     "hide_solution": true
    }
   },
   "source": [
    "The boundary value problem for $y(x)$ with boundary data at $x = a, b$ is converted to an initial value problem for $y(x)$ by, at first, guessing the additional (initial) boundary data $z$ at $x = a$ that is required for a properly posed (i.e., completely specified) IVP. The IVP can then be solved using any appropriate solver to get some solution $y(x; z)$ that depends on the guessed initial data $z$. By comparing against the required boundary data at $y(b)$ we can check if we have the correct solution of the original BVP. To be precise, we can write\n",
    "$$\n",
    "  \\phi (z) = \\left. y(x; z) \\right|_{x=b} − y(b),\n",
    "$$\n",
    "a nonlinear equation for $z$. At the root where $\\phi(z) = 0$ we have the appropriate initial data $z$ such that the solution of the IVP is also a solution of the original BVP. The root of this nonlinear equation can be found using any standard method such as bisection or the secant method."
   ]
  },
  {
   "cell_type": "markdown",
   "metadata": {},
   "source": [
    "## Question 2"
   ]
  },
  {
   "cell_type": "markdown",
   "metadata": {},
   "source": [
    "Give a complete algorithm for solving the BVP\n",
    "$$\n",
    "  y'' − 3 y' + 2y = 0, \\quad y(0) = 0, \\quad y(1) = 1\n",
    "$$\n",
    "using the finite difference method. Include the description of the grid, the grid spacing, the treatment of the boundary conditions, the finite difference operators and a description of the linear system to be solved. You do not need to say which method would be used to solve the linear system, but should mention any special properties of the system that might make it easier to solve."
   ]
  },
  {
   "cell_type": "markdown",
   "metadata": {
    "nbconvert": {
     "hide_solution": true
    }
   },
   "source": [
    "### Answer Question 2"
   ]
  },
  {
   "cell_type": "markdown",
   "metadata": {
    "nbconvert": {
     "hide_solution": true
    }
   },
   "source": [
    "We first choose the grid. We will use $N + 2$ point to cover the domain $x \\in [0, 1]$; this implies that we have a grid spacing $h = 1 / (N + 1)$ and we can explicitly write the coordinates of the grid points as\n",
    "$$\n",
    "  x_i = h i, \\quad i = 0, 1, \\dots , N + 1.\n",
    "$$\n",
    "\n",
    "We denote the value of the (approximate finite difference) solution at the grid points as $y_i (\\approx y(x_i))$. We will impose the boundary conditions using\n",
    "$$\n",
    "\\begin{aligned}\n",
    "  y_0 & = y(0) & y_{N +1} & = y(1) \\\\\n",
    "      & = 0    &          & = 1.\n",
    "\\end{aligned} \n",
    "$$\n",
    "\n",
    "We will use central differencing which gives\n",
    "$$\n",
    "\\begin{aligned}\n",
    "  \\left. y'(x)  \\right|_{x = x_i} & \\approx \\frac{y_{i+1} − y_{i−1}}{2 h}, \\\\\n",
    "  \\left. y''(x) \\right|_{x = x_i} & \\approx \\frac{y_{i+1} + y_{i−1} - 2 y_i}{h^2}.\n",
    "\\end{aligned}\n",
    "$$\n",
    "\n",
    "We can then substitute all of these definitions into the original definition to find the finite difference\n",
    "equation that holds for the interior points $i = 1, \\dots , N$:\n",
    "$$\n",
    "  y_{i+1} \\left( 1 − \\frac{3}{2} h \\right) + y_i \\left( −2 + 2 h^2 \\right) + y_{i−1} \\left( 1 + \\frac{3}{2} h \\right) = 0.\n",
    "$$\n",
    "\n",
    "This defines a linear system for the unknowns $y_i , i = 1, \\dots , N$ of the form\n",
    "$$\n",
    "  T {\\bf y} = {\\bf f}.\n",
    "$$\n",
    "\n",
    "We can see that the matrix $T$ is tridiagonal and has the form\n",
    "$$\n",
    "  T = \n",
    "    \\begin{pmatrix}\n",
    "      -2 + 2 h^2 & 1 - \\tfrac{3}{2} h & 0 & 0 & 0 & \\dots & 0 \\\\\n",
    "      1 + \\tfrac{3}{2} h & -2 + 2 h^2 & 1 - \\frac{3}{2} h & 0 & 0 & \\dots & 0 \\\\\n",
    "      0 & 1 + \\tfrac{3}{2} h & -2 + 2 h^2 & 1 - \\frac{3}{2} h & 0 & \\dots & 0 \\\\\n",
    "      0 & 0 & \\ddots & \\ddots & \\ddots & \\dots & 0 \\\\\n",
    "      0 & \\dots & 0 & 1 + \\tfrac{3}{2} h & -2 + 2 h^2 & 1 - \\frac{3}{2} h & 0 \\\\\n",
    "      0 & \\dots & \\dots & 0 & 1 + \\tfrac{3}{2} h & -2 + 2 h^2 & 1 - \\frac{3}{2} h \\\\\n",
    "      0 & \\dots & \\dots & \\dots & 0 & 1 + \\tfrac{3}{2} h & -2 + 2 h^2 \n",
    "    \\end{pmatrix}\n",
    "$$\n",
    "\n",
    "The right hand side vector results from the boundary data and is\n",
    "$$\n",
    "  {\\bf f} = \\begin{pmatrix} - \\left( 1 + \\tfrac{3}{2} h \\right) y_0 \\\\ 0 \\\\ \\vdots \\\\ 0 \\\\ - \\left( 1 - \\tfrac{3}{2} h \\right) y_{N+1} \\end{pmatrix} = \\begin{pmatrix} 0 \\\\ 0 \\\\ \\vdots \\\\ 0 \\\\ 0 \\end{pmatrix}.\n",
    "$$\n",
    "\n",
    "As the system is given by a tridiagonal matrix it is simple and cheap to solve using, e.g., the Thomas algorithm."
   ]
  },
  {
   "cell_type": "markdown",
   "metadata": {},
   "source": [
    "## Question 3"
   ]
  },
  {
   "cell_type": "markdown",
   "metadata": {},
   "source": [
    "Explain how your algorithm would have to be modified to solve the BVP where the boundary condition at $x = 1$ becomes the Neumann condition\n",
    "$$\n",
    "  y'(1) = 1 + \\frac{e}{e − 1}.\n",
    "$$"
   ]
  },
  {
   "cell_type": "markdown",
   "metadata": {
    "nbconvert": {
     "hide_solution": true
    }
   },
   "source": [
    "### Answer Question 3"
   ]
  },
  {
   "cell_type": "markdown",
   "metadata": {
    "nbconvert": {
     "hide_solution": true
    }
   },
   "source": [
    "First a finite difference representation of the boundary condition is required. A first order representation would be to use backward differencing\n",
    "$$\n",
    "  \\frac{y_{N + 1} − y_N}{h} = 1 + \\frac{e}{e - 1}.\n",
    "$$\n",
    "\n",
    "This can be rearranged to give\n",
    "$$\n",
    "  y_{N + 1} = y_N + h \\left( 1 + \\frac{e}{e − 1} \\right).\n",
    "$$\n",
    "\n",
    "So now whenever we replaced $y(1)$ as represented by $y_{N + 1}$ by the boundary value in the previous algorithm we must instead replace it with the above equation which uses the known boundary data and unknown interior values.\n",
    "\n",
    "Explicitly, this modifies the matrix $T$ to\n",
    "$$\n",
    "  T = \n",
    "    \\begin{pmatrix}\n",
    "      -2 + 2 h^2 & 1 - \\tfrac{3}{2} h & 0 & 0 & 0 & \\dots & 0 \\\\\n",
    "      1 + \\tfrac{3}{2} h & -2 + 2 h^2 & 1 - \\frac{3}{2} h & 0 & 0 & \\dots & 0 \\\\\n",
    "      0 & 1 + \\tfrac{3}{2} h & -2 + 2 h^2 & 1 - \\frac{3}{2} h & 0 & \\dots & 0 \\\\\n",
    "      0 & 0 & \\ddots & \\ddots & \\ddots & \\dots & 0 \\\\\n",
    "      0 & \\dots & 0 & 1 + \\tfrac{3}{2} h & -2 + 2 h^2 & 1 - \\frac{3}{2} h & 0 \\\\\n",
    "      0 & \\dots & \\dots & 0 & 1 + \\tfrac{3}{2} h & -2 + 2 h^2 & 1 - \\frac{3}{2} h \\\\\n",
    "      0 & \\dots & \\dots & \\dots & 0 & 1 + \\tfrac{3}{2} h & -2 + 2 h^2 + \\color{red}{\\left(1 - \\frac{3}{2} h \\right)} \n",
    "    \\end{pmatrix}\n",
    "$$\n",
    "and the right hand side vector ${\\bf f}$ to\n",
    "$$\n",
    "  {\\bf f} = \\begin{pmatrix} 0 \\\\ 0 \\\\ \\vdots \\\\ 0 \\\\ \\color{red}{- \\left( 1 - \\frac{3}{2} h \\right) h \\left( 1 + \\frac{e}{e - 1} \\right)} \\end{pmatrix}.\n",
    "$$"
   ]
  },
  {
   "cell_type": "markdown",
   "metadata": {},
   "source": [
    "## Coding Question 1"
   ]
  },
  {
   "cell_type": "markdown",
   "metadata": {},
   "source": [
    "Write a simple shooting method to solve the BVP\n",
    "$$\n",
    "  y'' − 3 y' + 2 y = 0, \\quad y(0) = 0, \\quad y(1) = 1.\n",
    "$$\n",
    "\n",
    "Use standard black-box methods to solve the ODE, rewritten in first order form, and either a simple bisection method or the standard black-box methods to find the root. Compare your estimate against the answer\n",
    "$$\n",
    "  y(x) = \\frac{e^{2 x − 1} − e^{x − 1}}{e − 1}.\n",
    "$$"
   ]
  },
  {
   "cell_type": "markdown",
   "metadata": {
    "nbconvert": {
     "hide_solution": true
    }
   },
   "source": [
    "### Answer Coding Question 1"
   ]
  },
  {
   "cell_type": "code",
   "execution_count": null,
   "metadata": {
    "collapsed": true,
    "nbconvert": {
     "hide_solution": true
    }
   },
   "outputs": [],
   "source": [
    "import numpy\n",
    "from matplotlib import pyplot\n",
    "from scipy import integrate, optimize, linalg\n",
    "\n",
    "def shooting_Dirichlet(f, ivp_interval, guess_interval, y_bc, \n",
    "                       method = 'brentq', tolerance = 1.e-8,\n",
    "                       MaxSteps = 100):\n",
    "    \"\"\"\n",
    "    Solve the BVP z' = f(x, z) on x \\in ivp_interval = [a, b]\n",
    "    where z = [y, y'], subject to boundary conditions \n",
    "    y(a) = y_bc[0], y(b) = y_bc[1].\n",
    "    \"\"\"\n",
    "    \n",
    "    # Define the function computing the error in the \n",
    "    # boundary condition at b\n",
    "    def shooting_phi(guess):\n",
    "        \"\"\"Internal function for the root-finding\"\"\"\n",
    "    \n",
    "        # The initial conditions from the guess and the \n",
    "        # boundary conditions\n",
    "        y0 = [y_bc[0], guess]\n",
    "        # Solve the IVP\n",
    "        y = integrate.odeint(f, y0, numpy.linspace(ivp_interval[0], \n",
    "                                                   ivp_interval[1]))\n",
    "        \n",
    "        # Compute the error at the final point\n",
    "        return y[-1, 0] - y_bc[1]\n",
    "    \n",
    "    # Choose between the root-finding methods\n",
    "    if (method == 'bisection'):\n",
    "        guess_min = guess_interval[0]\n",
    "        guess_max = guess_interval[1]\n",
    "        \n",
    "        phi_min = shooting_phi(guess_min)\n",
    "        phi_max = shooting_phi(guess_max)\n",
    "        assert(phi_min * phi_max < 0.0)\n",
    "        for i in range(MaxSteps):\n",
    "            guess = (guess_min + guess_max) / 2.0\n",
    "            phi = shooting_phi(guess)\n",
    "            if (phi_min * phi < 0.0):\n",
    "                guess_max = guess\n",
    "                phi_max = phi\n",
    "            else:\n",
    "                guess_min = guess\n",
    "                phi_min = phi\n",
    "            if ((abs(phi) < tolerance) or \n",
    "               (guess_max - guess_min < tolerance)):\n",
    "                break\n",
    "    elif (method == 'brentq'):\n",
    "        guess = optimize.brentq(shooting_phi, guess_interval[0], \n",
    "                                guess_interval[1])\n",
    "    else:\n",
    "        raise Exception(\"method parameter must be in \"\n",
    "                        \"['brentq', 'bisection']\")\n",
    "        \n",
    "    # The initial conditions from the boundary, \n",
    "    # and the now \"correct\" value from the root-find\n",
    "    y0 = [y_bc[0], guess]\n",
    "    # Solve the IVP\n",
    "    x = numpy.linspace(ivp_interval[0], ivp_interval[1])\n",
    "    y = integrate.odeint(f, y0, x)\n",
    "    \n",
    "    return [x, y]\n",
    "\n",
    "# Define the specific ODE to be solved\n",
    "def f_bvp(y, x):\n",
    "    \"\"\"\n",
    "    First order form of the above ODE\n",
    "    \"\"\"\n",
    "    \n",
    "    dydx = numpy.zeros_like(y)\n",
    "    \n",
    "    dydx[0] = y[1]\n",
    "    dydx[1] = 3.0 * y[1] - 2.0 * y[0]\n",
    "    \n",
    "    return dydx\n",
    "\n",
    "# Define the exact solution for comparison\n",
    "def y_exact(x):\n",
    "    \"\"\"\n",
    "    Exact solution as given above.\n",
    "    \"\"\"\n",
    "    \n",
    "    return (numpy.exp(2.0*x - 1.0) - numpy.exp(x - 1.0)) / \\\n",
    "           (numpy.exp(1.0) - 1.0)\n",
    "\n",
    "# Now test it on the BVP to be solved\n",
    "\n",
    "x, y_brentq = shooting_Dirichlet(f_bvp, [0.0, 1.0], \n",
    "                                 [-10.0, 10.0], [0.0, 1.0])\n",
    "x, y_bisection = shooting_Dirichlet(f_bvp, [0.0, 1.0], \n",
    "                                    [-10.0, 10.0], [0.0, 1.0], \n",
    "                                    method = 'bisection')\n",
    "\n",
    "pyplot.figure(figsize = (12, 8))\n",
    "pyplot.plot(x, y_brentq[:, 0], 'kx', x, y_bisection[:, 0], 'ro',\n",
    "            x, y_exact(x), 'b-')\n",
    "pyplot.xlabel('$x$', size = 16)\n",
    "pyplot.ylabel('$y$', size = 16)\n",
    "pyplot.legend(('Shooting, brentq method', 'Shooting, bisection', 'Exact'),\n",
    "              loc = \"upper left\")\n",
    "\n",
    "\n",
    "pyplot.figure(figsize = (12, 8))\n",
    "pyplot.semilogy(x, numpy.absolute(y_brentq[:, 0] - y_exact(x)), 'kx',\n",
    "                x, numpy.absolute(y_bisection[:, 0] - y_exact(x)), 'ro')\n",
    "pyplot.xlabel('$x$', size = 16)\n",
    "pyplot.ylabel('$|$Error$|$', size = 16)\n",
    "pyplot.legend(('Shooting, brentq method', 'Shooting, bisection'),\n",
    "              loc = \"lower right\")\n",
    "pyplot.show()\n",
    "        "
   ]
  },
  {
   "cell_type": "markdown",
   "metadata": {},
   "source": [
    "## Coding Question 2"
   ]
  },
  {
   "cell_type": "markdown",
   "metadata": {},
   "source": [
    "Implement your finite difference algorithm algorithm above to solve this BVP, using a standard black-box linear system solver. Show that your result converges to the correct answer."
   ]
  },
  {
   "cell_type": "markdown",
   "metadata": {
    "nbconvert": {
     "hide_solution": true
    }
   },
   "source": [
    "### Answer Coding Question 2"
   ]
  },
  {
   "cell_type": "code",
   "execution_count": null,
   "metadata": {
    "collapsed": true,
    "nbconvert": {
     "hide_solution": true
    }
   },
   "outputs": [],
   "source": [
    "def bvp_FD_Dirichlet(p, q, f, interval, y_bc, N = 100):\n",
    "    \"\"\"\n",
    "    Solve linear BVP y'' + p(x) y' + q(x) y = f(x) on the \n",
    "    given interval = [a, b] using y(a) = y_bc[0], y(b) = y_bc[1].\n",
    "    \"\"\"\n",
    "    \n",
    "    h = (interval[1] - interval[0]) / (N + 1.0)\n",
    "    # The grid, including boundaries, \n",
    "    # and set up final solution (fix at boundaries)\n",
    "    x = numpy.linspace(interval[0], interval[1], N+2)\n",
    "    y = numpy.zeros_like(x)\n",
    "    y[0]  = y_bc[0]\n",
    "    y[-1] = y_bc[1]\n",
    "    # Set up diagonal entries of the matrix. \n",
    "    # Call sub-diagonal, diagonal, and super-diagonal vectors \n",
    "    # VE, VF, VG.\n",
    "    VE = 1.0 - h / 2.0 * p(x[2:-1])\n",
    "    VF = -2.0 + h**2 * q(x[1:-1])\n",
    "    VG = 1.0 + h / 2.0 * p(x[1:-2])\n",
    "    # Set up RHS vector F\n",
    "    F = h**2 * f(x[1:-1])\n",
    "    # Include boundary contributions\n",
    "    F[0]  -= y_bc[0] * (1.0 - h / 2.0 * p(x[1]))\n",
    "    F[-1] -= y_bc[1] * (1.0 + h / 2.0 * p(x[-2]))\n",
    "    # Be lazy: set up full matrix\n",
    "    T = numpy.diag(VE, -1) + numpy.diag(VF) + numpy.diag(VG, +1)\n",
    "    y[1:-1] = linalg.solve(T, F)\n",
    "    \n",
    "    return [x, y]\n",
    "\n",
    "# Define the problem to be solved\n",
    "\n",
    "def bvp_p(x):\n",
    "    \"\"\"\n",
    "    Term proportional to y' in definition of BVP\n",
    "    \"\"\"\n",
    "    \n",
    "    return -3.0 * numpy.ones_like(x)\n",
    "\n",
    "def bvp_q(x):\n",
    "    \"\"\"\n",
    "    Term proportional to y in definition of BVP\n",
    "    \"\"\"\n",
    "    \n",
    "    return 2.0 * numpy.ones_like(x)\n",
    "\n",
    "def bvp_f(x):\n",
    "    \"\"\"\n",
    "    Term on RHS in definition of BVP\n",
    "    \"\"\"\n",
    "    \n",
    "    return numpy.zeros_like(x)\n",
    "\n",
    "# Define the exact solution for comparison\n",
    "def y_exact(x):\n",
    "    \"\"\"\n",
    "    Exact solution as given above.\n",
    "    \"\"\"\n",
    "    \n",
    "    return (numpy.exp(2.0*x - 1.0) - numpy.exp(x - 1.0)) / \\\n",
    "           (numpy.exp(1.0) - 1.0)\n",
    "\n",
    "# Now solve the problem\n",
    "\n",
    "x, y = bvp_FD_Dirichlet(bvp_p, bvp_q, bvp_f, [0.0, 1.0], [0.0, 1.0])\n",
    "\n",
    "\n",
    "pyplot.figure(figsize = (12, 8))\n",
    "pyplot.plot(x, y, 'kx', x, y_exact(x), 'b-')\n",
    "pyplot.xlabel('$x$', size = 16)\n",
    "pyplot.ylabel('$y$', size = 16)\n",
    "pyplot.legend(('Finite difference solution', 'Exact'), loc = \"upper left\")\n",
    "\n",
    "# Now do a convergence test\n",
    "\n",
    "levels = numpy.array(range(4, 10))\n",
    "Npoints = 2**levels\n",
    "err_2norm = numpy.zeros(len(Npoints))\n",
    "for i in range(len(Npoints)):\n",
    "    x, y = bvp_FD_Dirichlet(bvp_p, bvp_q, bvp_f, [0.0, 1.0], [0.0, 1.0],\n",
    "                            Npoints[i])\n",
    "    err_2norm[i] = linalg.norm(y - y_exact(x), 2) / numpy.sqrt(Npoints[i])\n",
    "\n",
    "# Best fit to the errors\n",
    "h = 1.0 / Npoints\n",
    "p = numpy.polyfit(numpy.log(h), numpy.log(err_2norm), 1)\n",
    "\n",
    "fig = pyplot.figure(figsize = (12, 8), dpi = 50)\n",
    "pyplot.loglog(h, err_2norm, 'kx')\n",
    "pyplot.loglog(h, numpy.exp(p[1]) * h**(p[0]), 'b-')\n",
    "pyplot.xlabel('$h$', size = 16)\n",
    "pyplot.ylabel('$\\|$Error$\\|_1$', size = 16)\n",
    "pyplot.legend(('Finite difference errors',\n",
    "               \"Best fit line slope {0:.3}\".format(p[0])),\n",
    "              loc = \"upper left\")\n",
    "\n",
    "pyplot.show()"
   ]
  },
  {
   "cell_type": "markdown",
   "metadata": {},
   "source": [
    "## Coding Question 3"
   ]
  },
  {
   "cell_type": "markdown",
   "metadata": {},
   "source": [
    "Modify your algorithm for the Neumann boundary condition above. Check that it converges to the same answer as for the Dirichlet case."
   ]
  },
  {
   "cell_type": "markdown",
   "metadata": {
    "nbconvert": {
     "hide_solution": true
    }
   },
   "source": [
    "### Answer Coding Question 3"
   ]
  },
  {
   "cell_type": "code",
   "execution_count": null,
   "metadata": {
    "collapsed": true,
    "nbconvert": {
     "hide_solution": true
    }
   },
   "outputs": [],
   "source": [
    "def bvp_FD_DirichletNeumann(p, q, f, interval, y_bc, N = 100):\n",
    "    \"\"\"\n",
    "    Solve linear BVP y'' + p(x) y' + q(x) y = f(x) on the\n",
    "    given interval = [a, b] using y(a) = y_bc[0], y'(b) = y_bc[1].\n",
    "    \"\"\"\n",
    "    \n",
    "    h = (interval[1] - interval[0]) / (N + 1.0)\n",
    "    # The grid, including boundaries, and set up final solution\n",
    "    # (fix at boundaries)\n",
    "    x = numpy.linspace(interval[0], interval[1], N+2)\n",
    "    y = numpy.zeros_like(x)\n",
    "    y[0]  = y_bc[0]\n",
    "    # Neumann boundary condition at the right end,\n",
    "    # so value of solution unknown\n",
    "    \n",
    "    # Set up diagonal entries of the matrix. \n",
    "    # Call sub-diagonal, diagonal, and super-diagonal vectors \n",
    "    # VE, VF, VG.\n",
    "    VE = 1.0 - h / 2.0 * p(x[2:-1])\n",
    "    VF = -2.0 + h**2 * q(x[1:-1])\n",
    "    VG = 1.0 + h / 2.0 * p(x[1:-2])\n",
    "    # Set up RHS vector F\n",
    "    F = h**2 * f(x[1:-1])\n",
    "    # Include boundary contributions\n",
    "    F[0]  -= y_bc[0] * (1.0 - h / 2.0 * p(x[1]))\n",
    "    # Neumann boundary condition at the right end - \n",
    "    # modify matrix and RHS vector\n",
    "    VF[-1] += (1.0 + h / 2.0 * p(x[-2])) \n",
    "    F[-1] -= (1.0 + h / 2.0 * p(x[-2])) * h * y_bc[1]\n",
    "    # Be lazy: set up full matrix\n",
    "    T = numpy.diag(VE, -1) + numpy.diag(VF) + numpy.diag(VG, +1)\n",
    "    y[1:-1] = linalg.solve(T, F)\n",
    "    # Finally set the solution at the right boundary\n",
    "    y[-1] = y[-2] + h * y_bc[1]\n",
    "    \n",
    "    return [x, y]\n",
    "\n",
    "# Define the problem to be solved\n",
    "\n",
    "def bvp_p(x):\n",
    "    \"\"\"\n",
    "    Term proportional to y' in definition of BVP\n",
    "    \"\"\"\n",
    "    \n",
    "    return -3.0 * numpy.ones_like(x)\n",
    "\n",
    "def bvp_q(x):\n",
    "    \"\"\"\n",
    "    Term proportional to y in definition of BVP\n",
    "    \"\"\"\n",
    "    \n",
    "    return 2.0 * numpy.ones_like(x)\n",
    "\n",
    "def bvp_f(x):\n",
    "    \"\"\"\n",
    "    Term on RHS in definition of BVP\n",
    "    \"\"\"\n",
    "    \n",
    "    return numpy.zeros_like(x)\n",
    "\n",
    "# Define the exact solution for comparison\n",
    "def y_exact(x):\n",
    "    \"\"\"\n",
    "    Exact solution as given above.\n",
    "    \"\"\"\n",
    "    \n",
    "    return (numpy.exp(2.0*x - 1.0) - numpy.exp(x - 1.0)) / \\\n",
    "(numpy.exp(1.0) - 1.0)\n",
    "\n",
    "# Now solve the problem\n",
    "\n",
    "x, y = bvp_FD_DirichletNeumann(bvp_p, bvp_q, bvp_f, \n",
    "                               [0.0, 1.0], \n",
    "                               [0.0, 1.0 + numpy.exp(1.0) / \\\n",
    "                                     (numpy.exp(1.0) - 1.0)])\n",
    "\n",
    "pyplot.figure(figsize = (12, 8))\n",
    "pyplot.plot(x, y, 'kx', x, y_exact(x), 'b-')\n",
    "pyplot.xlabel('$x$', size = 16)\n",
    "pyplot.ylabel('$y$', size = 16)\n",
    "pyplot.legend(('Finite difference solution', 'Exact'), loc = \"upper left\")\n",
    "\n",
    "# Now do a convergence test\n",
    "\n",
    "levels = numpy.array(range(4, 10))\n",
    "Npoints = 2**levels\n",
    "err_DN_2norm = numpy.zeros(len(Npoints))\n",
    "for i in range(len(Npoints)):\n",
    "    x, y = bvp_FD_DirichletNeumann(bvp_p, bvp_q, bvp_f, \n",
    "                                   [0.0, 1.0], \n",
    "                                   [0.0, 1.0 + numpy.exp(1.0) / \\\n",
    "                                    (numpy.exp(1.0) - 1.0)], Npoints[i])\n",
    "    err_DN_2norm[i] = linalg.norm(y - y_exact(x), 2) / \\\n",
    "                                numpy.sqrt(Npoints[i])\n",
    "\n",
    "# Best fit to the errors\n",
    "h = 1.0 / Npoints\n",
    "p = numpy.polyfit(numpy.log(h), numpy.log(err_DN_2norm), 1)\n",
    "\n",
    "fig = pyplot.figure(figsize = (12, 8), dpi = 50)\n",
    "pyplot.loglog(h, err_DN_2norm, 'kx')\n",
    "pyplot.loglog(h, numpy.exp(p[1]) * h**(p[0]), 'b-')\n",
    "pyplot.xlabel('$h$', size = 16)\n",
    "pyplot.ylabel('$\\|$Error$\\|_2$', size = 16)\n",
    "pyplot.legend(('Finite difference errors (Neumann BC)', \n",
    "               \"Best fit line slope {0:.3}\".format(p[0])), \n",
    "              loc = \"upper left\")\n",
    "\n",
    "pyplot.show()"
   ]
  }
 ],
 "metadata": {
  "kernelspec": {
   "display_name": "Python 3",
   "language": "python",
   "name": "python3"
  },
  "language_info": {
   "codemirror_mode": {
    "name": "ipython",
    "version": 3
   },
   "file_extension": ".py",
   "mimetype": "text/x-python",
   "name": "python",
   "nbconvert_exporter": "python",
   "pygments_lexer": "ipython3",
   "version": "3.6.1"
  }
 },
 "nbformat": 4,
 "nbformat_minor": 1
}
