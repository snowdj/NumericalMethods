{
 "cells": [
  {
   "cell_type": "markdown",
   "metadata": {},
   "source": [
    "# Worksheet 1"
   ]
  },
  {
   "cell_type": "code",
   "execution_count": null,
   "metadata": {
    "collapsed": true,
    "nbconvert": {
     "hide_code": true
    }
   },
   "outputs": [],
   "source": [
    "%matplotlib inline"
   ]
  },
  {
   "cell_type": "markdown",
   "metadata": {},
   "source": [
    "The first worksheet covers basic topics in linear algebra. There is also a basic question on nonlinear root-finding."
   ]
  },
  {
   "cell_type": "markdown",
   "metadata": {},
   "source": [
    "# Questions"
   ]
  },
  {
   "cell_type": "markdown",
   "metadata": {},
   "source": [
    "## Question 1"
   ]
  },
  {
   "cell_type": "markdown",
   "metadata": {},
   "source": [
    "Write down the 1, 2 and $\\infty$ vector norms of\n",
    "$$\n",
    "  {\\bf v}_1 = \\begin{pmatrix} 1 \\\\ 3 \\\\ -1 \\end{pmatrix}, \\quad {\\bf v}_2 = \\begin{pmatrix} 1 \\\\ -2 \\end{pmatrix}, \\quad {\\bf v}_3 = \\begin{pmatrix} 1 \\\\ 6 \\\\ -3 \\\\ 1 \\end{pmatrix}.\n",
    "$$"
   ]
  },
  {
   "cell_type": "markdown",
   "metadata": {
    "nbconvert": {
     "hide_solution": true
    }
   },
   "source": [
    "### Answer Question 1"
   ]
  },
  {
   "cell_type": "markdown",
   "metadata": {
    "nbconvert": {
     "hide_solution": true
    }
   },
   "source": [
    "We know that the 1-norm is the sum of the absolute values, so\n",
    "$$\n",
    "\\begin{aligned}\n",
    "  | {\\bf v}_{1} |_1 &= 1 + 3 + 1 = 5, \\\\\n",
    "  | {\\bf v}_{2} |_1 &= 1 + 2 = 3, \\\\\n",
    "  | {\\bf v}_{2} |_1 &= 1 + 6 + 3 + 1 = 11.\n",
    "\\end{aligned}\n",
    "$$\n",
    "\n",
    "The 2-norm is the square root of the sum of the squares, so\n",
    "$$\n",
    "\\begin{aligned}\n",
    "  | {\\bf v}_{1} |_2 &= \\sqrt{1^2 + 3^2 + 1^2} = \\sqrt{11} \\approx 3.3166, \\\\\n",
    "  | {\\bf v}_{2} |_2 &= \\sqrt{1^2 + 3^2} = \\sqrt{10} \\approx 2.2361, \\\\\n",
    "  | {\\bf v}_{2} |_2 &= \\sqrt{1^2 + 6^2 + 3^2 + 1^2} = \\sqrt{47} \\approx 6.8557.\n",
    "\\end{aligned}\n",
    "$$\n",
    "\n",
    "The $\\infty$-norm is the maximum absolute value, so \n",
    "$$\n",
    "\\begin{aligned}\n",
    "  | {\\bf v}_{1} |_{\\infty} &= 3, \\\\\n",
    "  | {\\bf v}_{2} |_{\\infty} &= 2, \\\\\n",
    "  | {\\bf v}_{2} |_{\\infty} &= 6.\n",
    "\\end{aligned}\n",
    "$$"
   ]
  },
  {
   "cell_type": "markdown",
   "metadata": {
    "nbconvert": {
     "hide_solution": true
    }
   },
   "source": [
    "Next we calculate the condition numbers numerically using python, as a cross-check. Use numpy for this, via its linear algebra subpackage `numpy.linalg`."
   ]
  },
  {
   "cell_type": "code",
   "execution_count": null,
   "metadata": {
    "collapsed": true,
    "nbconvert": {
     "hide_solution": true
    }
   },
   "outputs": [],
   "source": [
    "import numpy\n",
    "from numpy import linalg\n",
    "\n",
    "v1 = numpy.array([1.0,  3.0, -1.0])\n",
    "v2 = numpy.array([1.0, -2.0])\n",
    "v3 = numpy.array([1.0,  6.0, -3.0, 1.0])\n",
    "\n",
    "for norm in [1, 2, numpy.inf]:\n",
    "    for v in [v1, v2, v3]:\n",
    "        print(\"The {0} norm of {1} is {2:.3}\".\\\n",
    "              format(norm, v, linalg.norm(v, norm)))"
   ]
  },
  {
   "cell_type": "markdown",
   "metadata": {},
   "source": [
    "## Question 2"
   ]
  },
  {
   "cell_type": "markdown",
   "metadata": {},
   "source": [
    "Find the 1 and $\\infty$ norms of\n",
    "$$\n",
    "  A_1 = \\begin{pmatrix} 1 & 2 \\\\ 3 & 4 \\end{pmatrix}, \\quad A_2 = \\begin{pmatrix} -3 & 2 \\\\ 3 & 6 \\end{pmatrix}.\n",
    "$$"
   ]
  },
  {
   "cell_type": "markdown",
   "metadata": {
    "nbconvert": {
     "hide_solution": true
    }
   },
   "source": [
    "### Answer Question 2"
   ]
  },
  {
   "cell_type": "markdown",
   "metadata": {
    "nbconvert": {
     "hide_solution": true
    }
   },
   "source": [
    "The 1-norm of a matrix is the maximum of the 1-norms of the **column** vectors. For $A_1$ the 1-norms of the column vectors are 4 and 6 respectively. For $A_2$ they are 6 and 8 respectively. So we have\n",
    "$$\n",
    "\\begin{aligned}\n",
    "  \\| A_1 \\|_1 &= 6, \\\\\n",
    "  \\| A_2 \\|_1 & = 8.\n",
    "\\end{aligned}\n",
    "$$\n",
    "\n",
    "The $\\infty$ norm of a matrix is the maximum of the 1-norms of the **row** vectors. For $A_1$ the 1-norms of the row vectors are 3 and 7 respectively. For $A_2$ they are 5 and 9 respectively. So we have\n",
    "$$\n",
    "\\begin{aligned}\n",
    "  \\| A_1 \\|_{\\infty} &= 7, \\\\\n",
    "  \\| A_2 \\|_{\\infty} & = 9.\n",
    "\\end{aligned}\n",
    "$$"
   ]
  },
  {
   "cell_type": "markdown",
   "metadata": {
    "nbconvert": {
     "hide_solution": true
    }
   },
   "source": [
    "It is equally straightforward to repeat this calculation with Python, using the same approach."
   ]
  },
  {
   "cell_type": "code",
   "execution_count": null,
   "metadata": {
    "collapsed": true,
    "nbconvert": {
     "hide_solution": true
    },
    "scrolled": true
   },
   "outputs": [],
   "source": [
    "A1 = numpy.array([[ 1.0, 2.0],[3.0, 4.0]])\n",
    "A2 = numpy.array([[-3.0, 2.0],[3.0, 6.0]])\n",
    "\n",
    "for norm in [1, numpy.inf]:\n",
    "    for A in [A1, A2]:\n",
    "        print(\"The {} norm of \\n{}\\nis {:.3}\\n\".\\\n",
    "              format(norm, A, linalg.norm(A, norm)))"
   ]
  },
  {
   "cell_type": "markdown",
   "metadata": {},
   "source": [
    "## Question 3"
   ]
  },
  {
   "cell_type": "markdown",
   "metadata": {},
   "source": [
    "Find the condition number of the above matrices."
   ]
  },
  {
   "cell_type": "markdown",
   "metadata": {
    "nbconvert": {
     "hide_solution": true
    }
   },
   "source": [
    "### Answer Question 3"
   ]
  },
  {
   "cell_type": "markdown",
   "metadata": {
    "nbconvert": {
     "hide_solution": true
    }
   },
   "source": [
    "The analytic calculation of the condition number requires the norm of the inverse matrices, which is **not** the inverse of the norm of the matrix. This is, of course, not useful for the numerical work.\n",
    "\n",
    "The inverse matrices are\n",
    "$$\n",
    "\\begin{aligned}\n",
    "  A_1^{-1} & = - \\frac{1}{2} \\begin{pmatrix} 4 & -2 \\\\ -3 & 1 \\end{pmatrix}, \\\\\n",
    "  A_2^{-1} & = - \\frac{1}{24} \\begin{pmatrix} 6 & -2 \\\\ -3 & -3 \\end{pmatrix}.\n",
    "\\end{aligned}\n",
    "$$\n",
    "\n",
    "It follows that the matrix norms of the inverse matrices are\n",
    "$$\n",
    "\\begin{aligned}\n",
    "  \\| A_1^{-1} \\| & = \\frac{7}{2}, & \\| A_2^{-1} \\|_1 & = \\frac{3}{8}, \\\\\n",
    "  \\| A_1^{-1} \\|_{\\infty} & = 3, & \\| A_2^{-1} \\|_{\\infty} & = \\frac{1}{3}.\n",
    "\\end{aligned}\n",
    "$$\n",
    "\n",
    "Therefore the condition numbers with respect to the 1-norm are\n",
    "$$\n",
    "\\begin{aligned}\n",
    "  K(A_1) & = \\| A_1 \\|_1 \\| A_1^{-1} \\|_1 \\\\ & = 21, \\\\\n",
    "  K(A_2) & = \\| A_2 \\|_1 \\| A_2^{-1} \\|_1 \\\\ & = 3,\n",
    "\\end{aligned}\n",
    "$$\n",
    "and the condition numbers with respect to the $\\infty$-norm are\n",
    "$$\n",
    "\\begin{aligned}\n",
    "  K(A_1) & = \\| A_1 \\|_{\\infty} \\| A_1^{-1} \\|_{\\infty} \\\\ & = 21, \\\\\n",
    "  K(A_2) & = \\| A_2 \\|_{\\infty} \\| A_2^{-1} \\|_{\\infty} \\\\ & = 3.\n",
    "\\end{aligned}\n",
    "$$\n",
    "\n",
    "Note that it is chance that, in this case, they are identical: this will not be true in general.\n",
    "\n",
    "This suggests that, if the solution of a linear system is needed as part of a numerical method, any intrinsic errors will be increased more by the matrix $A_1$ than by the matrix $A_2$, by a factor $\\sim 10$."
   ]
  },
  {
   "cell_type": "markdown",
   "metadata": {
    "nbconvert": {
     "hide_solution": true
    }
   },
   "source": [
    "When calculating the condition number numerically, the Singular Value Decomposition (SVD) is typically used, which does not require inverting the matrix. Thus calculating the condition number of fast, and should be done before any matrix operation to check the condition of the matrix. Within python, this is straightforward."
   ]
  },
  {
   "cell_type": "code",
   "execution_count": null,
   "metadata": {
    "collapsed": true,
    "nbconvert": {
     "hide_solution": true
    }
   },
   "outputs": [],
   "source": [
    "A1 = numpy.array([[ 1.0, 2.0],[3.0, 4.0]])\n",
    "A2 = numpy.array([[-3.0, 2.0],[3.0, 6.0]])\n",
    "\n",
    "for norm in [1, 2, numpy.inf]:\n",
    "    for A in [A1, A2]:\n",
    "        print(\"The condition number with respect to the\"\n",
    "              \" {} norm of\\n{}\\nis {:.3}\\n\"\\\n",
    "              .format(norm, A, linalg.cond(A, norm)))"
   ]
  },
  {
   "cell_type": "markdown",
   "metadata": {},
   "source": [
    "## Question 4"
   ]
  },
  {
   "cell_type": "markdown",
   "metadata": {},
   "source": [
    "Explain the difference between direct and indirect methods for solving linear systems. Give an example of when the latter may be more useful.\n",
    "\n",
    "*This is a standard part of an exam question: see, e.g., 07/08*."
   ]
  },
  {
   "cell_type": "markdown",
   "metadata": {
    "nbconvert": {
     "hide_solution": true
    }
   },
   "source": [
    "### Answer Question 4"
   ]
  },
  {
   "cell_type": "markdown",
   "metadata": {
    "nbconvert": {
     "hide_solution": true
    }
   },
   "source": [
    "*Direct methods* consist of a finite list of transformations of the original matrix of the coefficients that reduce the linear systems to one that is easily solved. \n",
    "\n",
    "*Indirect* or *iterative methods*, consist of algorithms that specify a series of steps, possibly infinite, that lead closer and closer to the solution; there may not be a guarantee that they ever exactly reach it. This may not seem a very desirable feature until we remember that we cannot in any case perfectly represent an exact solution: most iterative methods provide us with a highly accurate solution in relatively few iterations.\n",
    "\n",
    "Large, sparse matrices are ideally solved using iterative methods."
   ]
  },
  {
   "cell_type": "markdown",
   "metadata": {},
   "source": [
    "## Coding Question 1"
   ]
  },
  {
   "cell_type": "markdown",
   "metadata": {},
   "source": [
    "For each of the matrices above, work out their transpose and inverse using standard python commands."
   ]
  },
  {
   "cell_type": "markdown",
   "metadata": {
    "nbconvert": {
     "hide_solution": true
    }
   },
   "source": [
    "### Answer Coding Question 1"
   ]
  },
  {
   "cell_type": "code",
   "execution_count": null,
   "metadata": {
    "collapsed": true,
    "nbconvert": {
     "hide_solution": true
    }
   },
   "outputs": [],
   "source": [
    "A1 = numpy.array([[ 1.0, 2.0],[3.0, 4.0]])\n",
    "A2 = numpy.array([[-3.0, 2.0],[3.0, 6.0]])\n",
    "\n",
    "for A in [A1, A2]:\n",
    "    print(\"The transpose of \\n{}\\nis \\n{}\\n\"\\\n",
    "          .format(A, numpy.transpose(A)))\n",
    "    print(\"The inverse of \\n{}\\nis \\n{}\\n\"\\\n",
    "          .format(A, linalg.inv(A)))"
   ]
  },
  {
   "cell_type": "markdown",
   "metadata": {},
   "source": [
    "## Coding Question 2"
   ]
  },
  {
   "cell_type": "markdown",
   "metadata": {},
   "source": [
    "Check your calculation of the vector and matrix norms, and the condition numbers."
   ]
  },
  {
   "cell_type": "markdown",
   "metadata": {
    "nbconvert": {
     "hide_solution": true
    }
   },
   "source": [
    "Note that coding question 2 has been effectively answered above, in the \"theory\" section."
   ]
  },
  {
   "cell_type": "markdown",
   "metadata": {},
   "source": [
    "## Coding Question 3"
   ]
  },
  {
   "cell_type": "markdown",
   "metadata": {},
   "source": [
    "Write a function that takes a matrix, computes its condition number, and reports whether the matrix is suitably well-conditioned (the choice of criteria is up to you)."
   ]
  },
  {
   "cell_type": "markdown",
   "metadata": {
    "nbconvert": {
     "hide_solution": true
    }
   },
   "source": [
    "### Answer Coding Question 3"
   ]
  },
  {
   "cell_type": "markdown",
   "metadata": {
    "nbconvert": {
     "hide_solution": true
    }
   },
   "source": [
    "As we are now starting to use functions, we could define them in the notebook, or in a separate file. Here I have used a separate file : `Worksheet1_Functions.py`. The function is defined as follows."
   ]
  },
  {
   "cell_type": "code",
   "execution_count": null,
   "metadata": {
    "collapsed": true,
    "nbconvert": {
     "hide_solution": true
    }
   },
   "outputs": [],
   "source": [
    "def MatrixConditionCheck(A, MaxConditionNumber = 10.0):\n",
    "    \"\"\"\n",
    "    Check the condition number of a matrix.\n",
    "    Only write output to screen if the condition number is too high.\n",
    "    Should return something, really.\n",
    "    \"\"\"\n",
    "\n",
    "    ConditionNumber = linalg.cond(A)\n",
    "    if ConditionNumber > MaxConditionNumber:\n",
    "        print(\"The condition number of the matrix\\n{}\\n\"\n",
    "              \"is too large (i.e., it is {:.4} which is larger\"\n",
    "              \" than {:.4}).\\n\".format(A, ConditionNumber,\n",
    "                                       MaxConditionNumber))"
   ]
  },
  {
   "cell_type": "code",
   "execution_count": null,
   "metadata": {
    "collapsed": true,
    "nbconvert": {
     "hide_solution": true
    }
   },
   "outputs": [],
   "source": [
    "A1 = numpy.array([[ 1.0, 2.0],[3.0, 4.0]])\n",
    "A2 = numpy.array([[-3.0, 2.0],[3.0, 6.0]])\n",
    "\n",
    "MatrixConditionCheck(A1)\n",
    "MatrixConditionCheck(A2)"
   ]
  },
  {
   "cell_type": "markdown",
   "metadata": {},
   "source": [
    "## Coding Question 4"
   ]
  },
  {
   "cell_type": "markdown",
   "metadata": {},
   "source": [
    "Write a bisection method to find the root of\n",
    "$$\n",
    "  f(x) = \\tan (x) - e^{-x}, \\quad x \\in [0, 1].\n",
    "$$"
   ]
  },
  {
   "cell_type": "markdown",
   "metadata": {
    "nbconvert": {
     "hide_solution": true
    }
   },
   "source": [
    "### Answer Coding Question 4"
   ]
  },
  {
   "cell_type": "markdown",
   "metadata": {
    "nbconvert": {
     "hide_solution": true
    }
   },
   "source": [
    "Again we have defined the function in the separate file."
   ]
  },
  {
   "cell_type": "code",
   "execution_count": null,
   "metadata": {
    "collapsed": true,
    "nbconvert": {
     "hide_solution": true
    }
   },
   "outputs": [],
   "source": [
    "def bisection(f, interval, tolerance = 1.e-10):\n",
    "    \"\"\"\n",
    "    General bisection method for a function f of one variable.     \n",
    "    There must be at least one root within the interval.     \n",
    "    Default tolerance (width of the interval) is 1e-10.\n",
    "    \"\"\"\n",
    "    \n",
    "    assert len(interval) == 2\n",
    "    \n",
    "    # Get the endpoints of the interval\n",
    "    [x_min, x_max] = interval\n",
    "    \n",
    "    # Values at the ends of the domain\n",
    "    f_min = f(x_min)\n",
    "    f_max = f(x_max)\n",
    "    \n",
    "    # Check that at least one root lies within the interval\n",
    "    assert(f_min * f_max < 0.0)\n",
    "    \n",
    "    # The loop\n",
    "    x_c = (x_min + x_max) / 2.0\n",
    "    f_c = f(x_c)\n",
    "    iteration = 0\n",
    "    while ((x_max - x_min > tolerance) and \n",
    "           (abs(f_c) > tolerance) and \n",
    "           (iteration < 100)):\n",
    "        iteration = iteration+1    \n",
    "        if f_min * f_c < 0.0:\n",
    "            x_max = x_c\n",
    "            f_max = f_c\n",
    "        else:\n",
    "            x_min = x_c\n",
    "            f_min = f_c\n",
    "        x_c = (x_min + x_max) / 2.0\n",
    "        f_c = f(x_c)\n",
    "\n",
    "    print(\"The root is approximately {:.4} where \"\\\n",
    "          \"f is {:.4} (tolerance {:.4})\".format(x_c, f_c, tolerance))\n",
    "    return x_c"
   ]
  },
  {
   "cell_type": "markdown",
   "metadata": {
    "nbconvert": {
     "hide_solution": true
    }
   },
   "source": [
    "Define the function whose root we're trying to find:"
   ]
  },
  {
   "cell_type": "code",
   "execution_count": null,
   "metadata": {
    "collapsed": true,
    "nbconvert": {
     "hide_solution": true
    }
   },
   "outputs": [],
   "source": [
    "def fn_worksheet1_q4(x):\n",
    "    \"\"\"\n",
    "    Simple function defined in question, f(x) = tan(x) - exp(-x).\n",
    "    \"\"\"\n",
    "    \n",
    "    return numpy.tan(x) - numpy.exp(-x)"
   ]
  },
  {
   "cell_type": "markdown",
   "metadata": {
    "nbconvert": {
     "hide_solution": true
    }
   },
   "source": [
    "Test the bisection method using various tolerances."
   ]
  },
  {
   "cell_type": "code",
   "execution_count": null,
   "metadata": {
    "collapsed": true,
    "nbconvert": {
     "hide_solution": true
    }
   },
   "outputs": [],
   "source": [
    "# Now find the root.\n",
    "x_root = bisection(fn_worksheet1_q4, [0, 1])\n",
    "# Try changing the precision to see what difference it makes\n",
    "x_root_e6 = bisection(fn_worksheet1_q4, [0, 1], 1e-6)\n",
    "x_root_e6 = bisection(fn_worksheet1_q4, [0, 1], 1e-15)"
   ]
  }
 ],
 "metadata": {
  "kernelspec": {
   "display_name": "Python 3",
   "language": "python",
   "name": "python3"
  },
  "language_info": {
   "codemirror_mode": {
    "name": "ipython",
    "version": 3
   },
   "file_extension": ".py",
   "mimetype": "text/x-python",
   "name": "python",
   "nbconvert_exporter": "python",
   "pygments_lexer": "ipython3",
   "version": "3.6.1"
  }
 },
 "nbformat": 4,
 "nbformat_minor": 1
}
